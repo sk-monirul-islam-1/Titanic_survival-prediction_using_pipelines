{
  "nbformat": 4,
  "nbformat_minor": 0,
  "metadata": {
    "colab": {
      "provenance": [],
      "toc_visible": true,
      "include_colab_link": true
    },
    "kernelspec": {
      "name": "python3",
      "display_name": "Python 3"
    }
  },
  "cells": [
    {
      "cell_type": "markdown",
      "metadata": {
        "id": "view-in-github",
        "colab_type": "text"
      },
      "source": [
        "<a href=\"https://colab.research.google.com/github/sk-monirul-islam-1/Titanic_survival-prediction_using_pipelines/blob/main/Pipeline_with_spark.ipynb\" target=\"_parent\"><img src=\"https://colab.research.google.com/assets/colab-badge.svg\" alt=\"Open In Colab\"/></a>"
      ]
    },
    {
      "cell_type": "code",
      "source": [
        "from datetime import datetime\n",
        "import pytz\n",
        "print('Time to do something good',datetime.now(pytz.timezone('Asia/Calcutta')))"
      ],
      "metadata": {
        "id": "tD3MXrUBkW8T",
        "outputId": "341680fb-030c-46e4-898c-095f71c98880",
        "colab": {
          "base_uri": "https://localhost:8080/"
        }
      },
      "execution_count": 1,
      "outputs": [
        {
          "output_type": "stream",
          "name": "stdout",
          "text": [
            "Time to do something good 2024-01-02 21:27:30.389737+05:30\n"
          ]
        }
      ]
    },
    {
      "cell_type": "markdown",
      "source": [
        "#Installation of spark"
      ],
      "metadata": {
        "id": "Mor2U8YP1eMo"
      }
    },
    {
      "cell_type": "code",
      "metadata": {
        "id": "TbGuxmEWq0Zi",
        "outputId": "4d1180ad-a8ce-43d3-ae0f-68b3778bc5bb",
        "colab": {
          "base_uri": "https://localhost:8080/"
        }
      },
      "source": [
        "!pip3 -q install pyspark\n",
        "from pyspark.sql import SparkSession\n",
        "spark = SparkSession.builder.appName('Praxis').master(\"local[*]\").getOrCreate()\n",
        "sc = spark.sparkContext\n",
        "#sc"
      ],
      "execution_count": 2,
      "outputs": [
        {
          "output_type": "stream",
          "name": "stdout",
          "text": [
            "\u001b[2K     \u001b[90m━━━━━━━━━━━━━━━━━━━━━━━━━━━━━━━━━━━━━━━━\u001b[0m \u001b[32m316.9/316.9 MB\u001b[0m \u001b[31m3.2 MB/s\u001b[0m eta \u001b[36m0:00:00\u001b[0m\n",
            "\u001b[?25h  Preparing metadata (setup.py) ... \u001b[?25l\u001b[?25hdone\n",
            "  Building wheel for pyspark (setup.py) ... \u001b[?25l\u001b[?25hdone\n"
          ]
        }
      ]
    },
    {
      "cell_type": "markdown",
      "source": [
        "## Importing necessary libraries"
      ],
      "metadata": {
        "id": "jmOtXSNXExHv"
      }
    },
    {
      "cell_type": "code",
      "source": [
        "from pyspark.sql.functions import mean\n",
        "from pyspark.ml.feature import (VectorAssembler,OneHotEncoder, StringIndexer)\n",
        "from pyspark.ml import Pipeline\n",
        "from pyspark.ml import PipelineModel\n",
        "from pyspark.ml.classification import LogisticRegression\n",
        "from pyspark.ml.classification import RandomForestClassifier\n",
        "from pyspark.ml.classification import GBTClassifier\n",
        "from pyspark.ml.evaluation import MulticlassClassificationEvaluator\n",
        "from pyspark.ml.evaluation import BinaryClassificationEvaluator\n"
      ],
      "metadata": {
        "id": "j1cE0WaBEzGt"
      },
      "execution_count": 3,
      "outputs": []
    },
    {
      "cell_type": "markdown",
      "metadata": {
        "id": "egmxIzPs1mdY"
      },
      "source": [
        "# Data"
      ]
    },
    {
      "cell_type": "markdown",
      "source": [
        "## Data Collection"
      ],
      "metadata": {
        "id": "zSJkvCz7Jv4Q"
      }
    },
    {
      "cell_type": "code",
      "source": [
        "!wget -O titanic_dataset.csv -q https://github.com/datasciencedojo/datasets/raw/master/titanic.csv"
      ],
      "metadata": {
        "id": "zH9wlX56A1nR"
      },
      "execution_count": 4,
      "outputs": []
    },
    {
      "cell_type": "code",
      "metadata": {
        "id": "MdTpklFXrNIO",
        "colab": {
          "base_uri": "https://localhost:8080/"
        },
        "outputId": "f6ae8e34-1b02-425c-c5dc-4a73780b7b07"
      },
      "source": [
        "#loading dataset into spark dataframe\n",
        "DF = spark.read.csv('titanic_dataset.csv', inferSchema=True,header=True)\n",
        "DF.show(5)"
      ],
      "execution_count": 5,
      "outputs": [
        {
          "output_type": "stream",
          "name": "stdout",
          "text": [
            "+-----------+--------+------+--------------------+------+----+-----+-----+----------------+-------+-----+--------+\n",
            "|PassengerId|Survived|Pclass|                Name|   Sex| Age|SibSp|Parch|          Ticket|   Fare|Cabin|Embarked|\n",
            "+-----------+--------+------+--------------------+------+----+-----+-----+----------------+-------+-----+--------+\n",
            "|          1|       0|     3|Braund, Mr. Owen ...|  male|22.0|    1|    0|       A/5 21171|   7.25| NULL|       S|\n",
            "|          2|       1|     1|Cumings, Mrs. Joh...|female|38.0|    1|    0|        PC 17599|71.2833|  C85|       C|\n",
            "|          3|       1|     3|Heikkinen, Miss. ...|female|26.0|    0|    0|STON/O2. 3101282|  7.925| NULL|       S|\n",
            "|          4|       1|     1|Futrelle, Mrs. Ja...|female|35.0|    1|    0|          113803|   53.1| C123|       S|\n",
            "|          5|       0|     3|Allen, Mr. Willia...|  male|35.0|    0|    0|          373450|   8.05| NULL|       S|\n",
            "+-----------+--------+------+--------------------+------+----+-----+-----+----------------+-------+-----+--------+\n",
            "only showing top 5 rows\n",
            "\n"
          ]
        }
      ]
    },
    {
      "cell_type": "markdown",
      "metadata": {
        "id": "8plUnE7W1s_U"
      },
      "source": [
        "## Data Understanding\n"
      ]
    },
    {
      "cell_type": "code",
      "metadata": {
        "colab": {
          "base_uri": "https://localhost:8080/"
        },
        "id": "Q6Q3WzOTP8qo",
        "outputId": "b664b9c3-42a4-4dde-bfe3-b8be1421c044"
      },
      "source": [
        "print((DF.count(),len(DF.columns)))"
      ],
      "execution_count": 6,
      "outputs": [
        {
          "output_type": "stream",
          "name": "stdout",
          "text": [
            "(891, 12)\n"
          ]
        }
      ]
    },
    {
      "cell_type": "code",
      "metadata": {
        "colab": {
          "base_uri": "https://localhost:8080/"
        },
        "id": "O9VO-tjZrbIz",
        "outputId": "a4be15d3-4994-42a2-d32e-1361d66eed10"
      },
      "source": [
        "DF.printSchema()"
      ],
      "execution_count": 7,
      "outputs": [
        {
          "output_type": "stream",
          "name": "stdout",
          "text": [
            "root\n",
            " |-- PassengerId: integer (nullable = true)\n",
            " |-- Survived: integer (nullable = true)\n",
            " |-- Pclass: integer (nullable = true)\n",
            " |-- Name: string (nullable = true)\n",
            " |-- Sex: string (nullable = true)\n",
            " |-- Age: double (nullable = true)\n",
            " |-- SibSp: integer (nullable = true)\n",
            " |-- Parch: integer (nullable = true)\n",
            " |-- Ticket: string (nullable = true)\n",
            " |-- Fare: double (nullable = true)\n",
            " |-- Cabin: string (nullable = true)\n",
            " |-- Embarked: string (nullable = true)\n",
            "\n"
          ]
        }
      ]
    },
    {
      "cell_type": "code",
      "metadata": {
        "colab": {
          "base_uri": "https://localhost:8080/"
        },
        "id": "f0b_I_fyQ3AS",
        "outputId": "18939ee3-712d-4443-f243-921e3b2d6e6e"
      },
      "source": [
        "#descriptive analysis\n",
        "DF.describe().show()"
      ],
      "execution_count": 8,
      "outputs": [
        {
          "output_type": "stream",
          "name": "stdout",
          "text": [
            "+-------+-----------------+-------------------+------------------+--------------------+------+------------------+------------------+-------------------+------------------+-----------------+-----+--------+\n",
            "|summary|      PassengerId|           Survived|            Pclass|                Name|   Sex|               Age|             SibSp|              Parch|            Ticket|             Fare|Cabin|Embarked|\n",
            "+-------+-----------------+-------------------+------------------+--------------------+------+------------------+------------------+-------------------+------------------+-----------------+-----+--------+\n",
            "|  count|              891|                891|               891|                 891|   891|               714|               891|                891|               891|              891|  204|     889|\n",
            "|   mean|            446.0| 0.3838383838383838| 2.308641975308642|                NULL|  NULL| 29.69911764705882|0.5230078563411896|0.38159371492704824|260318.54916792738| 32.2042079685746| NULL|    NULL|\n",
            "| stddev|257.3538420152301|0.48659245426485753|0.8360712409770491|                NULL|  NULL|14.526497332334035|1.1027434322934315| 0.8060572211299488|471609.26868834975|49.69342859718089| NULL|    NULL|\n",
            "|    min|                1|                  0|                 1|\"Andersson, Mr. A...|female|              0.42|                 0|                  0|            110152|              0.0|  A10|       C|\n",
            "|    max|              891|                  1|                 3|van Melkebeke, Mr...|  male|              80.0|                 8|                  6|         WE/P 5735|         512.3292|    T|       S|\n",
            "+-------+-----------------+-------------------+------------------+--------------------+------+------------------+------------------+-------------------+------------------+-----------------+-----+--------+\n",
            "\n"
          ]
        }
      ]
    },
    {
      "cell_type": "code",
      "metadata": {
        "colab": {
          "base_uri": "https://localhost:8080/"
        },
        "id": "LkpZSPshgxs8",
        "outputId": "9f83a852-f725-4031-e1b0-90e33b202de5"
      },
      "source": [
        "#count of different fares\n",
        "DF.groupBy('Fare').count().show()"
      ],
      "execution_count": 9,
      "outputs": [
        {
          "output_type": "stream",
          "name": "stdout",
          "text": [
            "+-------+-----+\n",
            "|   Fare|count|\n",
            "+-------+-----+\n",
            "| 8.5167|    1|\n",
            "|   15.5|    8|\n",
            "| 133.65|    2|\n",
            "| 29.125|    5|\n",
            "|10.4625|    2|\n",
            "| 7.0458|    1|\n",
            "|  9.475|    1|\n",
            "|11.1333|    3|\n",
            "|    0.0|   15|\n",
            "| 7.7333|    4|\n",
            "|   73.5|    5|\n",
            "|77.2875|    2|\n",
            "|   15.9|    2|\n",
            "|   11.5|    4|\n",
            "| 8.6833|    1|\n",
            "|41.5792|    3|\n",
            "|    9.5|    9|\n",
            "| 8.4042|    1|\n",
            "|14.4542|    7|\n",
            "|14.4583|    3|\n",
            "+-------+-----+\n",
            "only showing top 20 rows\n",
            "\n"
          ]
        }
      ]
    },
    {
      "cell_type": "markdown",
      "source": [
        "## Using Spark - SQL"
      ],
      "metadata": {
        "id": "WkA9twc45pMv"
      }
    },
    {
      "cell_type": "code",
      "metadata": {
        "id": "6LGBAFk5gyGW"
      },
      "source": [
        "# temporary view of the data\n",
        "DF.createOrReplaceTempView('DF_T')"
      ],
      "execution_count": 10,
      "outputs": []
    },
    {
      "cell_type": "code",
      "metadata": {
        "colab": {
          "base_uri": "https://localhost:8080/"
        },
        "id": "YA0zcaRhSAxM",
        "outputId": "d195886a-f5f6-4b90-f65e-c2bba193a584"
      },
      "source": [
        "#group by gender\n",
        "spark.sql(\\\n",
        "          \"SELECT \\\n",
        "           Sex, count(Sex) as count_gender, \\\n",
        "           count(Sex)*100/sum(count(Sex)) over() as percent  \\\n",
        "           FROM DF_T GROUP BY Sex\" \\\n",
        "           ).show()"
      ],
      "execution_count": 11,
      "outputs": [
        {
          "output_type": "stream",
          "name": "stdout",
          "text": [
            "+------+------------+-----------------+\n",
            "|   Sex|count_gender|          percent|\n",
            "+------+------------+-----------------+\n",
            "|female|         314|35.24130190796858|\n",
            "|  male|         577|64.75869809203142|\n",
            "+------+------------+-----------------+\n",
            "\n"
          ]
        }
      ]
    },
    {
      "cell_type": "code",
      "metadata": {
        "colab": {
          "base_uri": "https://localhost:8080/"
        },
        "id": "wXorVtn-gyok",
        "outputId": "79357e14-9b87-4e2b-e091-460cbc8426fc"
      },
      "source": [
        "#group by gender having fare more than 100\n",
        "spark.sql(\\\n",
        "          \"SELECT Sex, count(Sex), \\\n",
        "          round((COUNT(Sex) * 100.0) /(SELECT count(Sex) FROM DF_T ),2) as percentage \\\n",
        "          FROM DF_T WHERE Fare > 100  GROUP BY Sex\"\\\n",
        "          ).show()"
      ],
      "execution_count": 12,
      "outputs": [
        {
          "output_type": "stream",
          "name": "stdout",
          "text": [
            "+------+----------+----------+\n",
            "|   Sex|count(Sex)|percentage|\n",
            "+------+----------+----------+\n",
            "|female|        34|      3.82|\n",
            "|  male|        19|      2.13|\n",
            "+------+----------+----------+\n",
            "\n"
          ]
        }
      ]
    },
    {
      "cell_type": "code",
      "metadata": {
        "colab": {
          "base_uri": "https://localhost:8080/"
        },
        "id": "TfLuYmyMTuph",
        "outputId": "e193dc69-e965-462b-ef2e-9f65595525a9"
      },
      "source": [
        "#group by gender having age exactly 20\n",
        "spark.sql(\\\n",
        "          \"SELECT Sex, count(Sex), \\\n",
        "          round((COUNT(Sex) * 100.0) /(SELECT count(Sex) FROM DF_T ),2) as percentage \\\n",
        "          FROM DF_T WHERE Age = 20  GROUP BY Sex\"\\\n",
        "          ).show()"
      ],
      "execution_count": 13,
      "outputs": [
        {
          "output_type": "stream",
          "name": "stdout",
          "text": [
            "+------+----------+----------+\n",
            "|   Sex|count(Sex)|percentage|\n",
            "+------+----------+----------+\n",
            "|female|         2|      0.22|\n",
            "|  male|        13|      1.46|\n",
            "+------+----------+----------+\n",
            "\n"
          ]
        }
      ]
    },
    {
      "cell_type": "code",
      "metadata": {
        "colab": {
          "base_uri": "https://localhost:8080/"
        },
        "id": "eMePTsdrUDV0",
        "outputId": "d511cc4b-c3d8-47f8-bcfe-4e762f2d3dda"
      },
      "source": [
        "#group by gender with Pclass exactly 1\n",
        "spark.sql(\\\n",
        "          \"SELECT Sex, count(Sex), \\\n",
        "          round((COUNT(Sex) * 100.0) /(SELECT count(Sex) FROM DF_T ),2) as percentage \\\n",
        "          FROM DF_T WHERE  Pclass = 1  GROUP BY Sex\"\\\n",
        "          ).show()"
      ],
      "execution_count": 14,
      "outputs": [
        {
          "output_type": "stream",
          "name": "stdout",
          "text": [
            "+------+----------+----------+\n",
            "|   Sex|count(Sex)|percentage|\n",
            "+------+----------+----------+\n",
            "|female|        94|     10.55|\n",
            "|  male|       122|     13.69|\n",
            "+------+----------+----------+\n",
            "\n"
          ]
        }
      ]
    },
    {
      "cell_type": "code",
      "metadata": {
        "colab": {
          "base_uri": "https://localhost:8080/"
        },
        "id": "mD1gYYCKT5cp",
        "outputId": "4f5d7385-da22-439d-aee6-1ca241ae55ac"
      },
      "source": [
        "#count of different types of pclass\n",
        "DF.groupBy('Pclass').count().show()"
      ],
      "execution_count": 15,
      "outputs": [
        {
          "output_type": "stream",
          "name": "stdout",
          "text": [
            "+------+-----+\n",
            "|Pclass|count|\n",
            "+------+-----+\n",
            "|     1|  216|\n",
            "|     3|  491|\n",
            "|     2|  184|\n",
            "+------+-----+\n",
            "\n"
          ]
        }
      ]
    },
    {
      "cell_type": "code",
      "metadata": {
        "colab": {
          "base_uri": "https://localhost:8080/"
        },
        "id": "SCzLBuVCgy7W",
        "outputId": "d131c20c-df9b-4d29-a92f-91ddbdf1c656"
      },
      "source": [
        "#ticket vs count of fare amount\n",
        "spark.sql(\"SELECT Ticket, count(Fare) as fare_amt_count FROM DF_T WHERE Pclass == 2 GROUP BY Ticket ORDER BY fare_amt_count DESC\").show()"
      ],
      "execution_count": 16,
      "outputs": [
        {
          "output_type": "stream",
          "name": "stdout",
          "text": [
            "+-------------+--------------+\n",
            "|       Ticket|fare_amt_count|\n",
            "+-------------+--------------+\n",
            "| S.O.C. 14879|             5|\n",
            "|       239853|             3|\n",
            "|   C.A. 34651|             3|\n",
            "|       230080|             3|\n",
            "| F.C.C. 13529|             3|\n",
            "|        29106|             3|\n",
            "|SC/Paris 2123|             3|\n",
            "|   C.A. 31921|             3|\n",
            "|       248727|             3|\n",
            "|        11668|             2|\n",
            "|        31027|             2|\n",
            "|       250647|             2|\n",
            "|       244252|             2|\n",
            "|   C.A. 33112|             2|\n",
            "|        28403|             2|\n",
            "|       239865|             2|\n",
            "|         2908|             2|\n",
            "|       230433|             2|\n",
            "|       248738|             2|\n",
            "|       231919|             2|\n",
            "+-------------+--------------+\n",
            "only showing top 20 rows\n",
            "\n"
          ]
        }
      ]
    },
    {
      "cell_type": "markdown",
      "metadata": {
        "id": "RouBCJAC1_SH"
      },
      "source": [
        "## Data Preprocessing"
      ]
    },
    {
      "cell_type": "code",
      "metadata": {
        "id": "AtANMhQmBtqs",
        "colab": {
          "base_uri": "https://localhost:8080/"
        },
        "outputId": "cc9f6949-92c8-477a-ed7e-735a86b9f208"
      },
      "source": [
        "#checking null values\n",
        "DF.toPandas().isnull().sum()"
      ],
      "execution_count": 17,
      "outputs": [
        {
          "output_type": "execute_result",
          "data": {
            "text/plain": [
              "PassengerId      0\n",
              "Survived         0\n",
              "Pclass           0\n",
              "Name             0\n",
              "Sex              0\n",
              "Age            177\n",
              "SibSp            0\n",
              "Parch            0\n",
              "Ticket           0\n",
              "Fare             0\n",
              "Cabin          687\n",
              "Embarked         2\n",
              "dtype: int64"
            ]
          },
          "metadata": {},
          "execution_count": 17
        }
      ]
    },
    {
      "cell_type": "code",
      "source": [
        "#droping unwanted columns\n",
        "DF = DF.drop('Cabin')\n",
        "DF = DF.dropna(subset=['Embarked'])\n",
        "DF = DF.drop('PassengerId')\n",
        "DF = DF.drop('Name')\n",
        "DF = DF.drop('Ticket')"
      ],
      "metadata": {
        "id": "72IDvz4B_FBy"
      },
      "execution_count": 18,
      "outputs": []
    },
    {
      "cell_type": "code",
      "source": [
        "#filling null values of age column\n",
        "cmean = DF.select(mean(DF['Age'])).collect()\n",
        "meanage = cmean[0][0]\n",
        "DF = DF.na.fill(meanage,['Age'])"
      ],
      "metadata": {
        "id": "RKXIQ1URABil"
      },
      "execution_count": 19,
      "outputs": []
    },
    {
      "cell_type": "code",
      "source": [
        "#checking null values again after filling null values\n",
        "DF.toPandas().isnull().sum()"
      ],
      "metadata": {
        "colab": {
          "base_uri": "https://localhost:8080/"
        },
        "id": "f60Eo1myJfoB",
        "outputId": "149e5c19-dd79-479d-f025-0e336bddcafb"
      },
      "execution_count": 20,
      "outputs": [
        {
          "output_type": "execute_result",
          "data": {
            "text/plain": [
              "Survived    0\n",
              "Pclass      0\n",
              "Sex         0\n",
              "Age         0\n",
              "SibSp       0\n",
              "Parch       0\n",
              "Fare        0\n",
              "Embarked    0\n",
              "dtype: int64"
            ]
          },
          "metadata": {},
          "execution_count": 20
        }
      ]
    },
    {
      "cell_type": "code",
      "metadata": {
        "id": "RdUNDmw89DU9",
        "colab": {
          "base_uri": "https://localhost:8080/"
        },
        "outputId": "c01cb3c2-c154-4f90-e1a0-5eb953d88a32"
      },
      "source": [
        "DF.describe().show()\n",
        "# note, mean BMI has not changed, but std of BMI has reduced, as expected"
      ],
      "execution_count": 21,
      "outputs": [
        {
          "output_type": "stream",
          "name": "stdout",
          "text": [
            "+-------+-------------------+------------------+------+------------------+------------------+-------------------+-----------------+--------+\n",
            "|summary|           Survived|            Pclass|   Sex|               Age|             SibSp|              Parch|             Fare|Embarked|\n",
            "+-------+-------------------+------------------+------+------------------+------------------+-------------------+-----------------+--------+\n",
            "|  count|                889|               889|   889|               889|               889|                889|              889|     889|\n",
            "|   mean|0.38245219347581555|2.3115860517435323|  NULL|29.642092696629106|0.5241844769403825|0.38245219347581555|32.09668087739029|    NULL|\n",
            "| stddev|0.48625968831477334|0.8346997785705753|  NULL|12.968346294351782| 1.103704875596923| 0.8067607445174785|49.69750431670795|    NULL|\n",
            "|    min|                  0|                 1|female|              0.42|                 0|                  0|              0.0|       C|\n",
            "|    max|                  1|                 3|  male|              80.0|                 8|                  6|         512.3292|       S|\n",
            "+-------+-------------------+------------------+------+------------------+------------------+-------------------+-----------------+--------+\n",
            "\n"
          ]
        }
      ]
    },
    {
      "cell_type": "code",
      "metadata": {
        "id": "4Ee0UIcREOOl",
        "colab": {
          "base_uri": "https://localhost:8080/"
        },
        "outputId": "995555ac-8421-48c5-b062-743d4a24d235"
      },
      "source": [
        "DF.dtypes"
      ],
      "execution_count": 22,
      "outputs": [
        {
          "output_type": "execute_result",
          "data": {
            "text/plain": [
              "[('Survived', 'int'),\n",
              " ('Pclass', 'int'),\n",
              " ('Sex', 'string'),\n",
              " ('Age', 'double'),\n",
              " ('SibSp', 'int'),\n",
              " ('Parch', 'int'),\n",
              " ('Fare', 'double'),\n",
              " ('Embarked', 'string')]"
            ]
          },
          "metadata": {},
          "execution_count": 22
        }
      ]
    },
    {
      "cell_type": "markdown",
      "source": [
        "## String Indexer"
      ],
      "metadata": {
        "id": "dd-KV7QXKe-7"
      }
    },
    {
      "cell_type": "code",
      "metadata": {
        "id": "1reLB7VX3a0P"
      },
      "source": [
        "# There are two categorical varibales sex and smoking Embarked\n",
        "# indexing all categorical columns in the dataset\n",
        "\n",
        "SexIndexer = StringIndexer(inputCol=\"Sex\", outputCol=\"SexIndex\")\n",
        "EmbarkedIndexer = StringIndexer(inputCol=\"Embarked\", outputCol=\"EmbarkedIndex\")"
      ],
      "execution_count": 23,
      "outputs": []
    },
    {
      "cell_type": "code",
      "source": [
        "DF.show(5)"
      ],
      "metadata": {
        "id": "O4xgyXfeHN4d",
        "colab": {
          "base_uri": "https://localhost:8080/"
        },
        "outputId": "53fbe4a6-b6c0-4b84-b8c3-8125c28dcd8a"
      },
      "execution_count": 24,
      "outputs": [
        {
          "output_type": "stream",
          "name": "stdout",
          "text": [
            "+--------+------+------+----+-----+-----+-------+--------+\n",
            "|Survived|Pclass|   Sex| Age|SibSp|Parch|   Fare|Embarked|\n",
            "+--------+------+------+----+-----+-----+-------+--------+\n",
            "|       0|     3|  male|22.0|    1|    0|   7.25|       S|\n",
            "|       1|     1|female|38.0|    1|    0|71.2833|       C|\n",
            "|       1|     3|female|26.0|    0|    0|  7.925|       S|\n",
            "|       1|     1|female|35.0|    1|    0|   53.1|       S|\n",
            "|       0|     3|  male|35.0|    0|    0|   8.05|       S|\n",
            "+--------+------+------+----+-----+-----+-------+--------+\n",
            "only showing top 5 rows\n",
            "\n"
          ]
        }
      ]
    },
    {
      "cell_type": "code",
      "source": [
        "# Using any one String Indexer\n",
        "EmbarkedIndexer.fit(DF).transform(DF).show(5)"
      ],
      "metadata": {
        "id": "cXNlx6mDHVz1",
        "colab": {
          "base_uri": "https://localhost:8080/"
        },
        "outputId": "2f2db5c4-fd6c-4915-c809-6b482acae631"
      },
      "execution_count": 25,
      "outputs": [
        {
          "output_type": "stream",
          "name": "stdout",
          "text": [
            "+--------+------+------+----+-----+-----+-------+--------+-------------+\n",
            "|Survived|Pclass|   Sex| Age|SibSp|Parch|   Fare|Embarked|EmbarkedIndex|\n",
            "+--------+------+------+----+-----+-----+-------+--------+-------------+\n",
            "|       0|     3|  male|22.0|    1|    0|   7.25|       S|          0.0|\n",
            "|       1|     1|female|38.0|    1|    0|71.2833|       C|          1.0|\n",
            "|       1|     3|female|26.0|    0|    0|  7.925|       S|          0.0|\n",
            "|       1|     1|female|35.0|    1|    0|   53.1|       S|          0.0|\n",
            "|       0|     3|  male|35.0|    0|    0|   8.05|       S|          0.0|\n",
            "+--------+------+------+----+-----+-----+-------+--------+-------------+\n",
            "only showing top 5 rows\n",
            "\n"
          ]
        }
      ]
    },
    {
      "cell_type": "code",
      "source": [
        "# Putting TWO indexers(Pipeline construction)\n",
        "SexIndexer.fit(EmbarkedIndexer.fit(DF).transform(DF)).transform(EmbarkedIndexer.fit(DF).transform(DF)).show(5)"
      ],
      "metadata": {
        "id": "B4gJ0XxiKapw",
        "colab": {
          "base_uri": "https://localhost:8080/"
        },
        "outputId": "e6741987-073f-408d-abf6-778f913ff596"
      },
      "execution_count": 26,
      "outputs": [
        {
          "output_type": "stream",
          "name": "stdout",
          "text": [
            "+--------+------+------+----+-----+-----+-------+--------+-------------+--------+\n",
            "|Survived|Pclass|   Sex| Age|SibSp|Parch|   Fare|Embarked|EmbarkedIndex|SexIndex|\n",
            "+--------+------+------+----+-----+-----+-------+--------+-------------+--------+\n",
            "|       0|     3|  male|22.0|    1|    0|   7.25|       S|          0.0|     0.0|\n",
            "|       1|     1|female|38.0|    1|    0|71.2833|       C|          1.0|     1.0|\n",
            "|       1|     3|female|26.0|    0|    0|  7.925|       S|          0.0|     1.0|\n",
            "|       1|     1|female|35.0|    1|    0|   53.1|       S|          0.0|     1.0|\n",
            "|       0|     3|  male|35.0|    0|    0|   8.05|       S|          0.0|     0.0|\n",
            "+--------+------+------+----+-----+-----+-------+--------+-------------+--------+\n",
            "only showing top 5 rows\n",
            "\n"
          ]
        }
      ]
    },
    {
      "cell_type": "markdown",
      "source": [
        "## Using One Hot Encoder for categorical variables"
      ],
      "metadata": {
        "id": "V36Q0VtAK0zE"
      }
    },
    {
      "cell_type": "code",
      "source": [
        "OHE_Sex = OneHotEncoder(inputCols=[\"SexIndex\"], outputCols=[\"SexVec\"])\n",
        "OHE_Sex.fit(SexIndexer.fit(DF).transform(DF)).transform(SexIndexer.fit(DF).transform(DF)).show(5)"
      ],
      "metadata": {
        "id": "oxtTDfstL_20",
        "colab": {
          "base_uri": "https://localhost:8080/"
        },
        "outputId": "74b8fc66-9915-4971-c3ca-447ca1ad2fac"
      },
      "execution_count": 27,
      "outputs": [
        {
          "output_type": "stream",
          "name": "stdout",
          "text": [
            "+--------+------+------+----+-----+-----+-------+--------+--------+-------------+\n",
            "|Survived|Pclass|   Sex| Age|SibSp|Parch|   Fare|Embarked|SexIndex|       SexVec|\n",
            "+--------+------+------+----+-----+-----+-------+--------+--------+-------------+\n",
            "|       0|     3|  male|22.0|    1|    0|   7.25|       S|     0.0|(1,[0],[1.0])|\n",
            "|       1|     1|female|38.0|    1|    0|71.2833|       C|     1.0|    (1,[],[])|\n",
            "|       1|     3|female|26.0|    0|    0|  7.925|       S|     1.0|    (1,[],[])|\n",
            "|       1|     1|female|35.0|    1|    0|   53.1|       S|     1.0|    (1,[],[])|\n",
            "|       0|     3|  male|35.0|    0|    0|   8.05|       S|     0.0|(1,[0],[1.0])|\n",
            "+--------+------+------+----+-----+-----+-------+--------+--------+-------------+\n",
            "only showing top 5 rows\n",
            "\n"
          ]
        }
      ]
    },
    {
      "cell_type": "code",
      "source": [
        "OHE_Embarked = OneHotEncoder(inputCols=[\"EmbarkedIndex\"], outputCols=[\"EmbarkedVec\"])\n",
        "OHE_Embarked.fit(EmbarkedIndexer.fit(DF).transform(DF)).transform(EmbarkedIndexer.fit(DF).transform(DF)).show(5)"
      ],
      "metadata": {
        "id": "SdVlWKjHMqFe",
        "colab": {
          "base_uri": "https://localhost:8080/"
        },
        "outputId": "e31a8804-627e-46cc-dea0-e8e63e34fb5c"
      },
      "execution_count": 28,
      "outputs": [
        {
          "output_type": "stream",
          "name": "stdout",
          "text": [
            "+--------+------+------+----+-----+-----+-------+--------+-------------+-------------+\n",
            "|Survived|Pclass|   Sex| Age|SibSp|Parch|   Fare|Embarked|EmbarkedIndex|  EmbarkedVec|\n",
            "+--------+------+------+----+-----+-----+-------+--------+-------------+-------------+\n",
            "|       0|     3|  male|22.0|    1|    0|   7.25|       S|          0.0|(2,[0],[1.0])|\n",
            "|       1|     1|female|38.0|    1|    0|71.2833|       C|          1.0|(2,[1],[1.0])|\n",
            "|       1|     3|female|26.0|    0|    0|  7.925|       S|          0.0|(2,[0],[1.0])|\n",
            "|       1|     1|female|35.0|    1|    0|   53.1|       S|          0.0|(2,[0],[1.0])|\n",
            "|       0|     3|  male|35.0|    0|    0|   8.05|       S|          0.0|(2,[0],[1.0])|\n",
            "+--------+------+------+----+-----+-----+-------+--------+-------------+-------------+\n",
            "only showing top 5 rows\n",
            "\n"
          ]
        }
      ]
    },
    {
      "cell_type": "code",
      "metadata": {
        "id": "11DyqFjJ3azC"
      },
      "source": [
        "# Simultaneous Encoding of Both\n",
        "OHE_Sex_Embarked = OneHotEncoder(inputCols=[\"SexIndex\",\"EmbarkedIndex\"],\n",
        "                                 outputCols=[\"SexVec\",\"EmbarkedVec\"])"
      ],
      "execution_count": 29,
      "outputs": []
    },
    {
      "cell_type": "code",
      "source": [
        "OHE_Sex_Embarked.fit(SexIndexer.fit(EmbarkedIndexer.fit(DF).transform(DF)).transform(EmbarkedIndexer.fit(DF).transform(DF))).transform(SexIndexer.fit(EmbarkedIndexer.fit(DF).transform(DF)).transform(EmbarkedIndexer.fit(DF).transform(DF))).show(5)"
      ],
      "metadata": {
        "colab": {
          "base_uri": "https://localhost:8080/"
        },
        "id": "hfCjNhgCUz4o",
        "outputId": "52c324d1-33f1-4773-b0c1-878853525854"
      },
      "execution_count": 30,
      "outputs": [
        {
          "output_type": "stream",
          "name": "stdout",
          "text": [
            "+--------+------+------+----+-----+-----+-------+--------+-------------+--------+-------------+-------------+\n",
            "|Survived|Pclass|   Sex| Age|SibSp|Parch|   Fare|Embarked|EmbarkedIndex|SexIndex|       SexVec|  EmbarkedVec|\n",
            "+--------+------+------+----+-----+-----+-------+--------+-------------+--------+-------------+-------------+\n",
            "|       0|     3|  male|22.0|    1|    0|   7.25|       S|          0.0|     0.0|(1,[0],[1.0])|(2,[0],[1.0])|\n",
            "|       1|     1|female|38.0|    1|    0|71.2833|       C|          1.0|     1.0|    (1,[],[])|(2,[1],[1.0])|\n",
            "|       1|     3|female|26.0|    0|    0|  7.925|       S|          0.0|     1.0|    (1,[],[])|(2,[0],[1.0])|\n",
            "|       1|     1|female|35.0|    1|    0|   53.1|       S|          0.0|     1.0|    (1,[],[])|(2,[0],[1.0])|\n",
            "|       0|     3|  male|35.0|    0|    0|   8.05|       S|          0.0|     0.0|(1,[0],[1.0])|(2,[0],[1.0])|\n",
            "+--------+------+------+----+-----+-----+-------+--------+-------------+--------+-------------+-------------+\n",
            "only showing top 5 rows\n",
            "\n"
          ]
        }
      ]
    },
    {
      "cell_type": "markdown",
      "source": [
        "## Assembler"
      ],
      "metadata": {
        "id": "r8-sMS4FN2fg"
      }
    },
    {
      "cell_type": "code",
      "metadata": {
        "id": "MHjkGz_0Cunq"
      },
      "source": [
        "#taking all the columns except Survived as features\n",
        "F_assembler = VectorAssembler(inputCols=['SexVec',\n",
        " 'SibSp',\n",
        " 'Parch',\n",
        " 'Fare',\n",
        " 'Pclass',\n",
        " 'Age',\n",
        " 'EmbarkedVec'],outputCol='features')"
      ],
      "execution_count": 31,
      "outputs": []
    },
    {
      "cell_type": "code",
      "source": [
        "#transformation\n",
        "F_assembler.transform(OHE_Sex_Embarked.fit(SexIndexer.fit(EmbarkedIndexer.fit(DF).transform(DF)).transform(EmbarkedIndexer.fit(DF).transform(DF))).transform(SexIndexer.fit(EmbarkedIndexer.fit(DF).transform(DF)).transform(EmbarkedIndexer.fit(DF).transform(DF)))).show(5)"
      ],
      "metadata": {
        "id": "Yk9gc5_FPj3k",
        "colab": {
          "base_uri": "https://localhost:8080/"
        },
        "outputId": "e71e4e33-fac4-43a5-9d66-0d85e1df819c"
      },
      "execution_count": 32,
      "outputs": [
        {
          "output_type": "stream",
          "name": "stdout",
          "text": [
            "+--------+------+------+----+-----+-----+-------+--------+-------------+--------+-------------+-------------+--------------------+\n",
            "|Survived|Pclass|   Sex| Age|SibSp|Parch|   Fare|Embarked|EmbarkedIndex|SexIndex|       SexVec|  EmbarkedVec|            features|\n",
            "+--------+------+------+----+-----+-----+-------+--------+-------------+--------+-------------+-------------+--------------------+\n",
            "|       0|     3|  male|22.0|    1|    0|   7.25|       S|          0.0|     0.0|(1,[0],[1.0])|(2,[0],[1.0])|[1.0,1.0,0.0,7.25...|\n",
            "|       1|     1|female|38.0|    1|    0|71.2833|       C|          1.0|     1.0|    (1,[],[])|(2,[1],[1.0])|[0.0,1.0,0.0,71.2...|\n",
            "|       1|     3|female|26.0|    0|    0|  7.925|       S|          0.0|     1.0|    (1,[],[])|(2,[0],[1.0])|(8,[3,4,5,6],[7.9...|\n",
            "|       1|     1|female|35.0|    1|    0|   53.1|       S|          0.0|     1.0|    (1,[],[])|(2,[0],[1.0])|[0.0,1.0,0.0,53.1...|\n",
            "|       0|     3|  male|35.0|    0|    0|   8.05|       S|          0.0|     0.0|(1,[0],[1.0])|(2,[0],[1.0])|[1.0,0.0,0.0,8.05...|\n",
            "+--------+------+------+----+-----+-----+-------+--------+-------------+--------+-------------+-------------+--------------------+\n",
            "only showing top 5 rows\n",
            "\n"
          ]
        }
      ]
    },
    {
      "cell_type": "markdown",
      "metadata": {
        "id": "9ke6ZDDW3hmu"
      },
      "source": [
        "# Data Partitioning for Training and Testing"
      ]
    },
    {
      "cell_type": "code",
      "metadata": {
        "id": "WMWN3KQeRkGd",
        "colab": {
          "base_uri": "https://localhost:8080/"
        },
        "outputId": "66b3fe0b-5f82-4d7c-a24b-e2fdc8dd3955"
      },
      "source": [
        "# splitting training and validation data\n",
        "train_df,val_df = DF.randomSplit([0.7,0.3])\n",
        "print(train_df.count())\n",
        "print(val_df.count())"
      ],
      "execution_count": 33,
      "outputs": [
        {
          "output_type": "stream",
          "name": "stdout",
          "text": [
            "617\n",
            "272\n"
          ]
        }
      ]
    },
    {
      "cell_type": "markdown",
      "source": [
        "#Apply Different Techniques"
      ],
      "metadata": {
        "id": "z9aPo0ZYX_68"
      }
    },
    {
      "cell_type": "code",
      "source": [
        "basePipe = Pipeline(stages=[SexIndexer, EmbarkedIndexer, OHE_Sex_Embarked, F_assembler])\n",
        "basePipe.fit(DF).transform(DF).show(5)"
      ],
      "metadata": {
        "id": "4OadBfaAYdgU",
        "colab": {
          "base_uri": "https://localhost:8080/"
        },
        "outputId": "e166c5dd-f8da-47da-8b27-6942e1be0290"
      },
      "execution_count": 34,
      "outputs": [
        {
          "output_type": "stream",
          "name": "stdout",
          "text": [
            "+--------+------+------+----+-----+-----+-------+--------+--------+-------------+-------------+-------------+--------------------+\n",
            "|Survived|Pclass|   Sex| Age|SibSp|Parch|   Fare|Embarked|SexIndex|EmbarkedIndex|       SexVec|  EmbarkedVec|            features|\n",
            "+--------+------+------+----+-----+-----+-------+--------+--------+-------------+-------------+-------------+--------------------+\n",
            "|       0|     3|  male|22.0|    1|    0|   7.25|       S|     0.0|          0.0|(1,[0],[1.0])|(2,[0],[1.0])|[1.0,1.0,0.0,7.25...|\n",
            "|       1|     1|female|38.0|    1|    0|71.2833|       C|     1.0|          1.0|    (1,[],[])|(2,[1],[1.0])|[0.0,1.0,0.0,71.2...|\n",
            "|       1|     3|female|26.0|    0|    0|  7.925|       S|     1.0|          0.0|    (1,[],[])|(2,[0],[1.0])|(8,[3,4,5,6],[7.9...|\n",
            "|       1|     1|female|35.0|    1|    0|   53.1|       S|     1.0|          0.0|    (1,[],[])|(2,[0],[1.0])|[0.0,1.0,0.0,53.1...|\n",
            "|       0|     3|  male|35.0|    0|    0|   8.05|       S|     0.0|          0.0|(1,[0],[1.0])|(2,[0],[1.0])|[1.0,0.0,0.0,8.05...|\n",
            "+--------+------+------+----+-----+-----+-------+--------+--------+-------------+-------------+-------------+--------------------+\n",
            "only showing top 5 rows\n",
            "\n"
          ]
        }
      ]
    },
    {
      "cell_type": "markdown",
      "metadata": {
        "id": "l3OMs78y3nTG"
      },
      "source": [
        "## Logistic Regression Model Pipeline"
      ]
    },
    {
      "cell_type": "code",
      "metadata": {
        "id": "Qks5jAFPCujR"
      },
      "source": [
        "lr = LogisticRegression(labelCol='Survived',featuresCol='features',maxIter=5)\n",
        "lr_pipeline = Pipeline(stages=[basePipe,lr])\n",
        "lr_model = lr_pipeline.fit(train_df)\n",
        "lr_predictions=lr_model.transform(val_df)"
      ],
      "execution_count": 35,
      "outputs": []
    },
    {
      "cell_type": "code",
      "source": [
        "lr_predictions.show(5)"
      ],
      "metadata": {
        "id": "razlA8cs1kqf",
        "colab": {
          "base_uri": "https://localhost:8080/"
        },
        "outputId": "24f944df-c249-4f4d-e873-6249e8775f15"
      },
      "execution_count": 36,
      "outputs": [
        {
          "output_type": "stream",
          "name": "stdout",
          "text": [
            "+--------+------+----+-----------------+-----+-----+-------+--------+--------+-------------+-------------+-------------+--------------------+--------------------+--------------------+----------+\n",
            "|Survived|Pclass| Sex|              Age|SibSp|Parch|   Fare|Embarked|SexIndex|EmbarkedIndex|       SexVec|  EmbarkedVec|            features|       rawPrediction|         probability|prediction|\n",
            "+--------+------+----+-----------------+-----+-----+-------+--------+--------+-------------+-------------+-------------+--------------------+--------------------+--------------------+----------+\n",
            "|       0|     1|male|             18.0|    1|    0|  108.9|       C|     0.0|          1.0|(1,[0],[1.0])|(2,[1],[1.0])|[1.0,1.0,0.0,108....|[-0.8418351196440...|[0.30114842741239...|       1.0|\n",
            "|       0|     1|male|             19.0|    3|    2|  263.0|       S|     0.0|          0.0|(1,[0],[1.0])|(2,[0],[1.0])|[1.0,3.0,2.0,263....|[0.38857473921299...|[0.59593954974641...|       0.0|\n",
            "|       0|     1|male|             28.0|    0|    0|   47.1|       S|     0.0|          0.0|(1,[0],[1.0])|(2,[0],[1.0])|[1.0,0.0,0.0,47.1...|[-0.0197280092050...|[0.49506815765147...|       1.0|\n",
            "|       0|     1|male|             28.0|    1|    0|82.1708|       C|     0.0|          1.0|(1,[0],[1.0])|(2,[1],[1.0])|[1.0,1.0,0.0,82.1...|[-0.3381585171666...|[0.41625686449576...|       1.0|\n",
            "|       0|     1|male|29.64209269662921|    0|    0|    0.0|       S|     0.0|          0.0|(1,[0],[1.0])|(2,[0],[1.0])|(8,[0,4,5,6],[1.0...|[0.12897065519747...|[0.53219804583885...|       0.0|\n",
            "+--------+------+----+-----------------+-----+-----+-------+--------+--------+-------------+-------------+-------------+--------------------+--------------------+--------------------+----------+\n",
            "only showing top 5 rows\n",
            "\n"
          ]
        }
      ]
    },
    {
      "cell_type": "code",
      "source": [
        "acc_evaluator = MulticlassClassificationEvaluator(labelCol=\"Survived\", predictionCol=\"prediction\", metricName=\"accuracy\")\n",
        "evaluator = BinaryClassificationEvaluator(labelCol='Survived')"
      ],
      "metadata": {
        "id": "RrZNi4HjOVQv"
      },
      "execution_count": 37,
      "outputs": []
    },
    {
      "cell_type": "code",
      "metadata": {
        "id": "oDo7EXEJgF6O",
        "colab": {
          "base_uri": "https://localhost:8080/"
        },
        "outputId": "4d1b7430-cc10-46a5-b751-a3ebc8aa7308"
      },
      "source": [
        "lr_acc=acc_evaluator.evaluate(lr_predictions)\n",
        "print(round(lr_acc,3), 'is the accuray of the LR pipeline')\n",
        "lr_auroc = evaluator.evaluate(lr_predictions, {evaluator.metricName: \"areaUnderROC\"})\n",
        "print(\"Area under ROC Curve: {:.4f}\".format(lr_auroc))\n",
        "\n"
      ],
      "execution_count": 38,
      "outputs": [
        {
          "output_type": "stream",
          "name": "stdout",
          "text": [
            "0.816 is the accuray of the LR pipeline\n",
            "Area under ROC Curve: 0.8348\n"
          ]
        }
      ]
    },
    {
      "cell_type": "markdown",
      "metadata": {
        "id": "AdtPW1G0_2rE"
      },
      "source": [
        "## Random Forest Pipeline"
      ]
    },
    {
      "cell_type": "code",
      "metadata": {
        "id": "X4w6_NSU-Oo0"
      },
      "source": [
        "rf = RandomForestClassifier(featuresCol = 'features', labelCol = 'Survived')\n",
        "rf_pipeline = Pipeline(stages=[basePipe, rf])\n",
        "rf_model = rf_pipeline.fit(train_df)\n",
        "rf_predictions=rf_model.transform(val_df)"
      ],
      "execution_count": 39,
      "outputs": []
    },
    {
      "cell_type": "code",
      "metadata": {
        "id": "zSqqUwaF_c-t",
        "colab": {
          "base_uri": "https://localhost:8080/"
        },
        "outputId": "1a9c01d3-e054-4264-8e77-4b631a36b433"
      },
      "source": [
        "rf_acc=acc_evaluator.evaluate(rf_predictions)\n",
        "print('A Random Forest algorithm had an accuracy of: {0:2.2f}%'.format(rf_acc*100))\n",
        "rf_auroc = evaluator.evaluate(rf_predictions, {evaluator.metricName: \"areaUnderROC\"})\n",
        "print(\"Area under ROC Curve: {:.4f}\".format(rf_auroc))"
      ],
      "execution_count": 40,
      "outputs": [
        {
          "output_type": "stream",
          "name": "stdout",
          "text": [
            "A Random Forest algorithm had an accuracy of: 83.46%\n",
            "Area under ROC Curve: 0.8426\n"
          ]
        }
      ]
    },
    {
      "cell_type": "markdown",
      "metadata": {
        "id": "CKGXXeDZ3xJW"
      },
      "source": [
        "## Gradient Boost Model Pipeline"
      ]
    },
    {
      "cell_type": "code",
      "metadata": {
        "id": "jT4BVirjWMad"
      },
      "source": [
        "gbt = GBTClassifier(labelCol='Survived',featuresCol='features')\n",
        "gbt_pipeline = Pipeline(stages=[basePipe, gbt])\n",
        "gbt_model = gbt_pipeline.fit(train_df)\n",
        "gbt_predictions = gbt_model.transform(val_df)"
      ],
      "execution_count": 41,
      "outputs": []
    },
    {
      "cell_type": "code",
      "metadata": {
        "id": "EF6fBtImnTMR",
        "colab": {
          "base_uri": "https://localhost:8080/"
        },
        "outputId": "14e3afac-b628-462c-cb0f-7f3f1083e019"
      },
      "source": [
        "gbt_acc = acc_evaluator.evaluate(gbt_predictions)\n",
        "print('Gradient Boost algorithm had an accuracy of: {0:2.2f}%'.format(gbt_acc*100))\n",
        "gbt_auroc = evaluator.evaluate(gbt_predictions, {evaluator.metricName: \"areaUnderROC\"})\n",
        "print(\"Area under ROC Curve: {:.4f}\".format(gbt_auroc))"
      ],
      "execution_count": 42,
      "outputs": [
        {
          "output_type": "stream",
          "name": "stdout",
          "text": [
            "Gradient Boost algorithm had an accuracy of: 82.72%\n",
            "Area under ROC Curve: 0.8433\n"
          ]
        }
      ]
    },
    {
      "cell_type": "markdown",
      "source": [
        "# Comparison of the Models\n"
      ],
      "metadata": {
        "id": "w83Pn2-8XaLo"
      }
    },
    {
      "cell_type": "code",
      "source": [
        "print(round(lr_acc,3), 'is the accuray of the LR pipeline')\n",
        "print(round(rf_acc,3), 'is the accuray of the RF pipeline')\n",
        "print(round(gbt_acc,3), 'is the accuray of the GBT pipeline')\n",
        "\n",
        "print(round(lr_auroc,3), 'is area under ROC curve of the LR pipeline')\n",
        "print(round(rf_auroc,3), 'is area under ROC curve of the RF pipeline')\n",
        "print(round(gbt_auroc,3), 'is area under ROC curve of the GBT pipeline')"
      ],
      "metadata": {
        "id": "vHbqxmXGXb6Q",
        "colab": {
          "base_uri": "https://localhost:8080/"
        },
        "outputId": "fd4566ad-fef4-4937-88de-f44dc9b413dc"
      },
      "execution_count": 43,
      "outputs": [
        {
          "output_type": "stream",
          "name": "stdout",
          "text": [
            "0.816 is the accuray of the LR pipeline\n",
            "0.835 is the accuray of the RF pipeline\n",
            "0.827 is the accuray of the GBT pipeline\n",
            "0.835 is area under ROC curve of the LR pipeline\n",
            "0.843 is area under ROC curve of the RF pipeline\n",
            "0.843 is area under ROC curve of the GBT pipeline\n"
          ]
        }
      ]
    },
    {
      "cell_type": "markdown",
      "source": [
        "# Transform Once, Employ Various Models\n",
        "\n"
      ],
      "metadata": {
        "id": "t_ZFAp_IhnV1"
      }
    },
    {
      "cell_type": "code",
      "source": [
        "commonEstimator = Pipeline(stages=[SexIndexer, EmbarkedIndexer, OHE_Sex_Embarked, F_assembler])\n",
        "commonModel = commonEstimator.fit(train_df)\n",
        "\n",
        "commonTrainHeart = commonModel.transform(train_df)\n",
        "commonTrainHeart.show(5)"
      ],
      "metadata": {
        "id": "rzUXaPDy291X",
        "colab": {
          "base_uri": "https://localhost:8080/"
        },
        "outputId": "c920043b-f35f-4ef1-e57c-85a505364de2"
      },
      "execution_count": 44,
      "outputs": [
        {
          "output_type": "stream",
          "name": "stdout",
          "text": [
            "+--------+------+------+----+-----+-----+-------+--------+--------+-------------+-------------+-------------+--------------------+\n",
            "|Survived|Pclass|   Sex| Age|SibSp|Parch|   Fare|Embarked|SexIndex|EmbarkedIndex|       SexVec|  EmbarkedVec|            features|\n",
            "+--------+------+------+----+-----+-----+-------+--------+--------+-------------+-------------+-------------+--------------------+\n",
            "|       0|     1|female| 2.0|    1|    2| 151.55|       S|     1.0|          0.0|    (1,[],[])|(2,[0],[1.0])|[0.0,1.0,2.0,151....|\n",
            "|       0|     1|female|25.0|    1|    2| 151.55|       S|     1.0|          0.0|    (1,[],[])|(2,[0],[1.0])|[0.0,1.0,2.0,151....|\n",
            "|       0|     1|female|50.0|    0|    0|28.7125|       C|     1.0|          1.0|    (1,[],[])|(2,[1],[1.0])|(8,[3,4,5,7],[28....|\n",
            "|       0|     1|  male|19.0|    1|    0|   53.1|       S|     0.0|          0.0|(1,[0],[1.0])|(2,[0],[1.0])|[1.0,1.0,0.0,53.1...|\n",
            "|       0|     1|  male|21.0|    0|    1|77.2875|       S|     0.0|          0.0|(1,[0],[1.0])|(2,[0],[1.0])|[1.0,0.0,1.0,77.2...|\n",
            "+--------+------+------+----+-----+-----+-------+--------+--------+-------------+-------------+-------------+--------------------+\n",
            "only showing top 5 rows\n",
            "\n"
          ]
        }
      ]
    },
    {
      "cell_type": "markdown",
      "source": [
        "##Logistic Regression"
      ],
      "metadata": {
        "id": "CpJr7S1J7_sK"
      }
    },
    {
      "cell_type": "code",
      "source": [
        "lr0 = LogisticRegression(labelCol='Survived',featuresCol='features',maxIter=5)\n",
        "lr0Estimator = Pipeline(stages=[lr0])\n",
        "lr0model = lr0Estimator.fit(commonTrainHeart)\n",
        "\n",
        "lr1model = PipelineModel(stages = [commonModel , lr0model])         # Adding two models together\n",
        "lr1model_predictions = lr1model.transform(val_df)"
      ],
      "metadata": {
        "id": "CpOnpWfu4kuk"
      },
      "execution_count": 45,
      "outputs": []
    },
    {
      "cell_type": "code",
      "source": [
        "acc_evaluator = MulticlassClassificationEvaluator(labelCol=\"Survived\", predictionCol=\"prediction\", metricName=\"accuracy\")\n",
        "lr1_acc=acc_evaluator.evaluate(lr1model_predictions)\n",
        "\n",
        "print(round(lr1_acc,3), 'is the accuray of the new LR pipeline')\n",
        "evaluator = BinaryClassificationEvaluator(labelCol='Survived')\n",
        "lr1_auroc = evaluator.evaluate(lr1model_predictions, {evaluator.metricName: \"areaUnderROC\"})\n",
        "print(\"Area under ROC Curve: {:.4f}\".format(lr1_auroc))\n"
      ],
      "metadata": {
        "id": "a2aen7dA9NR2",
        "colab": {
          "base_uri": "https://localhost:8080/"
        },
        "outputId": "11aa5858-ab03-43e1-d478-d8c3b42b6692"
      },
      "execution_count": 46,
      "outputs": [
        {
          "output_type": "stream",
          "name": "stdout",
          "text": [
            "0.816 is the accuray of the new LR pipeline\n",
            "Area under ROC Curve: 0.8348\n"
          ]
        }
      ]
    },
    {
      "cell_type": "markdown",
      "source": [
        "## Random Forest"
      ],
      "metadata": {
        "id": "g1qAVkeRQpiT"
      }
    },
    {
      "cell_type": "code",
      "source": [
        "rf0 = RandomForestClassifier(featuresCol = 'features', labelCol = 'Survived')\n",
        "rf0Estimator = Pipeline(stages=[rf0])\n",
        "rf0model = rf0Estimator.fit(commonTrainHeart)\n",
        "\n",
        "rf1model = PipelineModel(stages = [commonModel , rf0model])         # Adding two models together\n",
        "rf1model_predictions = rf1model.transform(val_df)\n"
      ],
      "metadata": {
        "id": "TDoCNWixQ7DA"
      },
      "execution_count": 47,
      "outputs": []
    },
    {
      "cell_type": "code",
      "source": [
        "acc_evaluator = MulticlassClassificationEvaluator(labelCol=\"Survived\", predictionCol=\"prediction\", metricName=\"accuracy\")\n",
        "rf1_acc=acc_evaluator.evaluate(rf1model_predictions)\n",
        "\n",
        "print(round(rf1_acc,3), 'is the accuray of the new RF pipeline')\n",
        "evaluator = BinaryClassificationEvaluator(labelCol='Survived')\n",
        "rf1_auroc = evaluator.evaluate(rf1model_predictions, {evaluator.metricName: \"areaUnderROC\"})\n",
        "print(\"Area under ROC Curve: {:.4f}\".format(rf1_auroc))"
      ],
      "metadata": {
        "id": "Fit-WSCWRtnY",
        "colab": {
          "base_uri": "https://localhost:8080/"
        },
        "outputId": "689a0c04-9a9f-44e9-f41a-5b65b738e10b"
      },
      "execution_count": 48,
      "outputs": [
        {
          "output_type": "stream",
          "name": "stdout",
          "text": [
            "0.835 is the accuray of the new RF pipeline\n",
            "Area under ROC Curve: 0.8426\n"
          ]
        }
      ]
    },
    {
      "cell_type": "markdown",
      "source": [
        "##Gradient Boost"
      ],
      "metadata": {
        "id": "24ouhCbxilDu"
      }
    },
    {
      "cell_type": "code",
      "source": [
        "gbt0 = GBTClassifier(featuresCol = 'features', labelCol = 'Survived')\n",
        "gbt0Estimator = Pipeline(stages=[gbt0])\n",
        "gbt0model = gbt0Estimator.fit(commonTrainHeart)\n",
        "\n",
        "gbt1model = PipelineModel(stages = [commonModel , gbt0model])         # Adding two models together\n",
        "gbt1model_predictions = gbt1model.transform(val_df)"
      ],
      "metadata": {
        "id": "SPgfTaqKindj"
      },
      "execution_count": 49,
      "outputs": []
    },
    {
      "cell_type": "code",
      "source": [
        "acc_evaluator = MulticlassClassificationEvaluator(labelCol=\"Survived\", predictionCol=\"prediction\", metricName=\"accuracy\")\n",
        "gbt1_acc=acc_evaluator.evaluate(gbt1model_predictions)\n",
        "\n",
        "print(round(gbt1_acc,3), 'is the accuray of the new GBT pipeline')\n",
        "evaluator = BinaryClassificationEvaluator(labelCol='Survived')\n",
        "gbt1_auroc = evaluator.evaluate(gbt1model_predictions, {evaluator.metricName: \"areaUnderROC\"})\n",
        "print(\"Area under ROC Curve: {:.4f}\".format(gbt1_auroc))"
      ],
      "metadata": {
        "id": "6btIuuvnjdB7",
        "colab": {
          "base_uri": "https://localhost:8080/"
        },
        "outputId": "022bfe56-1dda-4df6-968e-f35ddacb356f"
      },
      "execution_count": 50,
      "outputs": [
        {
          "output_type": "stream",
          "name": "stdout",
          "text": [
            "0.827 is the accuray of the new GBT pipeline\n",
            "Area under ROC Curve: 0.8433\n"
          ]
        }
      ]
    },
    {
      "cell_type": "code",
      "source": [
        "!date\n",
        "from datetime import datetime\n",
        "import pytz\n",
        "print('Time to disconnect',datetime.now(pytz.timezone('Asia/Calcutta')))"
      ],
      "metadata": {
        "id": "33YEsN5OeC8i",
        "colab": {
          "base_uri": "https://localhost:8080/"
        },
        "outputId": "07764804-0f79-4cfd-e68c-b18f19c0dfbb"
      },
      "execution_count": 51,
      "outputs": [
        {
          "output_type": "stream",
          "name": "stdout",
          "text": [
            "Tue Jan  2 03:59:27 PM UTC 2024\n",
            "Time to disconnect 2024-01-02 21:29:27.746446+05:30\n"
          ]
        }
      ]
    }
  ]
}